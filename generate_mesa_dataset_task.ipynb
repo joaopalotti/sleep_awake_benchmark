{
 "cells": [
  {
   "cell_type": "code",
   "execution_count": null,
   "metadata": {
    "ExecuteTime": {
     "end_time": "2018-12-10T07:58:21.882235Z",
     "start_time": "2018-12-10T07:58:21.869094Z"
    }
   },
   "outputs": [],
   "source": [
    "%matplotlib inline\n",
    "import pandas as pd\n",
    "import numpy as np\n",
    "# required by pd.read_csv. It expects an object with a .read() method.\n",
    "from StringIO import StringIO\n",
    "from datetime import datetime, timedelta\n",
    "from glob import glob\n",
    "from bs4 import BeautifulSoup\n",
    "import gzip\n",
    "import os "
   ]
  },
  {
   "cell_type": "code",
   "execution_count": null,
   "metadata": {
    "ExecuteTime": {
     "end_time": "2018-12-10T07:58:22.339808Z",
     "start_time": "2018-12-10T07:58:22.309395Z"
    }
   },
   "outputs": [],
   "source": [
    "def getOverlap(mesaid, overlap_file=\"./data/mesa/mesa-actigraphy-psg-overlap.csv\"):\n",
    "    \n",
    "    df = pd.read_csv(overlap_file)\n",
    "    df = df[df[\"mesaid\"] == mesaid]\n",
    "    if df.empty:\n",
    "        print(\"ERROR: mesaid %d not found in overlap file\" % (mesaid))\n",
    "        return None\n",
    "    return df.values[0][1] # (mesaid, line, timeactigraph, timepsg)\n",
    "\n",
    "def extractAcigraphy(mesaid):\n",
    "    # Start to extract Actigraphy actValue\n",
    "    try:\n",
    "        act_file = \"data/mesa/actigraphy/mesa-sleep-%04d.csv.gz\" % (mesaid)\n",
    "        df = load_mesa(act_file)\n",
    "        return df\n",
    "    except:\n",
    "        return None\n",
    "\n",
    "def extractPSG(mesaid):\n",
    "    # Start to extract PSG sleep scores\n",
    "    profusion_file = \"./data/mesa/polysomnography/annotations-events-profusion/mesa-sleep-%04d-profusion.xml.gz\" % (mesaid)\n",
    "    try:\n",
    "        with gzip.open(profusion_file) as f:\n",
    "            soup = BeautifulSoup(f, 'xml')\n",
    "\n",
    "        stages = []\n",
    "        for c in soup.CMPStudyConfig.SleepStages:\n",
    "            stages.append(c.string)\n",
    "\n",
    "        return stages\n",
    "    except:\n",
    "        return None\n",
    "\n",
    "def load_mesa(filename):\n",
    "    \"\"\"\n",
    "        Load all the mesa files\n",
    "    \"\"\"\n",
    "    \n",
    "    df = pd.read_csv(filename, index_col=\"line\")\n",
    "    \n",
    "    ts = get_timestamp(\"1/1/1900\", df.iloc[0][\"linetime\"])\n",
    "    pts = pd.Timestamp(ts)\n",
    "    df[\"linetime\"] = pd.date_range(pts, periods=df.shape[0], freq='30S')\n",
    "    \n",
    "    return df\n",
    "\n",
    "def get_timestamp(start_date, start_time):\n",
    "    return datetime.strptime(start_date + \" \" + start_time, '%m/%d/%Y %H:%M:%S')\n",
    "\n",
    "def get_time_interval(n):\n",
    "    minutes = n / 2\n",
    "    hours = minutes/ 60\n",
    "    rest_minutes = minutes - (hours * 60)\n",
    "    rest_seconds = \"30\" if n%2 == 1 else \"00\"\n",
    "    return \"%02d:%02d:%s\" % (hours, rest_minutes, rest_seconds)"
   ]
  },
  {
   "cell_type": "code",
   "execution_count": null,
   "metadata": {
    "ExecuteTime": {
     "end_time": "2018-12-10T07:58:23.449449Z",
     "start_time": "2018-12-10T07:58:23.398789Z"
    },
    "code_folding": []
   },
   "outputs": [],
   "source": [
    "def process(mesaid, task):\n",
    "    \"\"\"\n",
    "    - mesaid: Integer representing a valid mesaid.\n",
    "    \n",
    "    - task:\n",
    "         * task1 (PSG time)\n",
    "         * task2 (24 hours)\n",
    "    \"\"\"\n",
    "    print(\"Processing %d...\" % (mesaid))\n",
    "    \n",
    "    # Extract Actigraphy data\n",
    "    df = extractAcigraphy(mesaid)\n",
    "    if df is None:\n",
    "        print (\"Actigraphy not found for mesaid %d. Aborting...\" % (mesaid))\n",
    "        return None\n",
    "    \n",
    "    # Extract PSG data\n",
    "    stages = extractPSG(mesaid)\n",
    "    if stages is None:\n",
    "        print (\"PSG not found for mesaid %d. Aborting...\" % (mesaid))\n",
    "        return None\n",
    "    \n",
    "    stages = map(int, stages)\n",
    "\n",
    "    # If recording for more than 16 hours, we do not use this mesaid\n",
    "    if len(stages) > 1920:\n",
    "        print (\"PSG recording was longer than 16 hours for mesaid %d.\" % (mesaid))\n",
    "        print (\"Aborting...\")\n",
    "        return None\n",
    "    \n",
    "    # Extract overlap index\n",
    "    overlapidx = getOverlap(mesaid)\n",
    "\n",
    "    if overlapidx is None:\n",
    "        print (\"Problems with mesaid %d. Aborting...\" % (mesaid))\n",
    "        return None\n",
    "    \n",
    "    #return df, stages, overlapidx\n",
    "    \n",
    "    # Creates an extra col with PSG data and fills up data with stages\n",
    "    df[\"stage\"] = None\n",
    "    df.loc[overlapidx:overlapidx+len(stages)-1, \"stage\"] = stages\n",
    "    \n",
    "    # Task 1: only PSG data is kept\n",
    "    if task == 1:\n",
    "        df = df[~df[\"stage\"].isnull()]\n",
    "        \n",
    "    elif task == 2: # aims to get 960 (8 hours) intervals before and after PSG \n",
    "        startidx = max(0, overlapidx - 960)\n",
    "        endidx = min(df.shape[0], overlapidx+len(stages)-1 + 960)\n",
    "        df = df.loc[startidx: endidx]\n",
    "    \n",
    "    # Generates the ground truth data:\n",
    "    if task == 1:\n",
    "        df[\"gt\"] = (df[\"stage\"] > 0)\n",
    "    \n",
    "    elif task == 2:\n",
    "        # ...uses GT as the PSG states and uses \"interval\" data for the rest....\n",
    "        df[\"gt\"] = None\n",
    "        beforePSG = df.loc[:overlapidx-1].copy()\n",
    "        duringPSG = df.loc[overlapidx: overlapidx+len(stages)-2].copy()\n",
    "        afterPSG = df.loc[overlapidx+len(stages)-1:].copy()\n",
    "\n",
    "        beforePSG[\"gt\"] = beforePSG[\"interval\"].apply(lambda x: x in [\"REST\", \"REST-S\"])\n",
    "        afterPSG[\"gt\"] = afterPSG[\"interval\"].apply(lambda x: x in [\"REST\", \"REST-S\"])\n",
    "        duringPSG[\"gt\"] =  (duringPSG[\"stage\"] > 0)\n",
    "        df = pd.concat((beforePSG,duringPSG,afterPSG))\n",
    "        \n",
    "    df[\"gt\"] = df[\"gt\"].astype(np.int)\n",
    "        \n",
    "    dflenght = df.shape[0]\n",
    "    print(\"Final df duration %s (%d intervals) -- From %s to %s\" % (get_time_interval(dflenght),dflenght, df.head(1)[\"linetime\"].values[0], df.tail(1)[\"linetime\"].values[0]))\n",
    "\n",
    "    # Resets index\n",
    "    df = df.reset_index(drop=True)\n",
    "    \n",
    "    return df\n",
    "    "
   ]
  },
  {
   "cell_type": "code",
   "execution_count": null,
   "metadata": {
    "ExecuteTime": {
     "end_time": "2018-12-10T09:03:32.405493Z",
     "start_time": "2018-12-10T09:03:32.067467Z"
    }
   },
   "outputs": [],
   "source": [
    " process(1682, 1)"
   ]
  },
  {
   "cell_type": "code",
   "execution_count": null,
   "metadata": {
    "ExecuteTime": {
     "end_time": "2018-12-10T08:17:12.652708Z",
     "start_time": "2018-12-10T08:08:45.098362Z"
    },
    "code_folding": []
   },
   "outputs": [],
   "source": [
    "TASK = 2\n",
    "outdir = \"datasets\"\n",
    "\n",
    "variables_file = \"./data/mesa/mesa-sleep-dataset-0.3.0.csv\"\n",
    "variables = pd.read_csv(variables_file)\n",
    "ids = list(variables[\"mesaid\"].unique())\n",
    "\n",
    "problem = []\n",
    "okays = 0\n",
    "empties = []\n",
    "processed = 0\n",
    "\n",
    "for mesaid in ids[:]:\n",
    "    \n",
    "    processed += 1\n",
    "    \n",
    "    print(\"*\" * 80)    \n",
    "    df = process(mesaid, task=TASK)\n",
    "    print(\"*\" * 80)\n",
    "    \n",
    "    if df is None:\n",
    "        print \"Could not get data for mesaid %d\" % (mesaid)\n",
    "        problem.append(mesaid)\n",
    "        continue\n",
    "    \n",
    "    if df[(df[\"interval\"] == \"EXCLUDED\")].shape[0] > 0:\n",
    "        print \"FOUND %d rows to be excluded\" % (df[(df[\"interval\"] == \"EXCLUDED\")].shape[0])\n",
    "    \n",
    "    if (df[df[\"interval\"] == \"EXCLUDED\"].shape[0] == df.shape[0]) or df.empty:\n",
    "        print(\"ERROR: All intervals were excluded.\")\n",
    "        print(\"MesaID %d is empty...\" % mesaid)\n",
    "        empties.append(mesaid)\n",
    "        continue\n",
    "    \n",
    "    #df = df[df[\"interval\"] != \"EXCLUDED\"] # TODO: not sure if I should keep or remove the excluded rows.\n",
    "   \n",
    "    outfile = \"mesa_%000d_task%s.csv\" % (mesaid, TASK)\n",
    "    outpath = os.path.join(outdir, outfile)\n",
    "        \n",
    "    df.to_csv(outpath, index=False)\n",
    "    okays += 1\n",
    "    \n",
    "print \"Done with %d okay out of %d possible ids\" % (okays, processed)\n"
   ]
  },
  {
   "cell_type": "code",
   "execution_count": null,
   "metadata": {},
   "outputs": [],
   "source": []
  }
 ],
 "metadata": {
  "hide_input": false,
  "kernelspec": {
   "display_name": "Python 2",
   "language": "python",
   "name": "python2"
  },
  "language_info": {
   "codemirror_mode": {
    "name": "ipython",
    "version": 2
   },
   "file_extension": ".py",
   "mimetype": "text/x-python",
   "name": "python",
   "nbconvert_exporter": "python",
   "pygments_lexer": "ipython2",
   "version": "2.7.15rc1"
  },
  "varInspector": {
   "cols": {
    "lenName": 16,
    "lenType": 16,
    "lenVar": 40
   },
   "kernels_config": {
    "python": {
     "delete_cmd_postfix": "",
     "delete_cmd_prefix": "del ",
     "library": "var_list.py",
     "varRefreshCmd": "print(var_dic_list())"
    },
    "r": {
     "delete_cmd_postfix": ") ",
     "delete_cmd_prefix": "rm(",
     "library": "var_list.r",
     "varRefreshCmd": "cat(var_dic_list()) "
    }
   },
   "types_to_exclude": [
    "module",
    "function",
    "builtin_function_or_method",
    "instance",
    "_Feature"
   ],
   "window_display": false
  }
 },
 "nbformat": 4,
 "nbformat_minor": 2
}
