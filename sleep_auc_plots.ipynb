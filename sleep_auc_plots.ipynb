{
 "cells": [
  {
   "cell_type": "code",
   "execution_count": null,
   "metadata": {
    "ExecuteTime": {
     "end_time": "2019-01-10T08:14:30.733197Z",
     "start_time": "2019-01-10T08:14:30.147542Z"
    }
   },
   "outputs": [],
   "source": [
    "%matplotlib inline\n",
    "import pandas as pd\n",
    "import numpy as np\n",
    "import sys\n",
    "import math\n",
    "import matplotlib.pyplot as plt\n",
    "from sklearn.preprocessing import minmax_scale\n",
    "\n",
    "from sklearn import metrics\n",
    "import pandas as pd\n",
    "from glob import glob\n",
    "import pickle\n",
    "from sleep_eval import evaluate_scoring_algorithm, evaluation_summary\n",
    "from sleep_misc import rescore_models\n",
    "from sleep_summary import load_results\n",
    "#from scipy.stats import ttest_ind\n"
   ]
  },
  {
   "cell_type": "code",
   "execution_count": null,
   "metadata": {
    "ExecuteTime": {
     "end_time": "2019-01-10T08:15:47.201038Z",
     "start_time": "2019-01-10T08:15:33.968619Z"
    }
   },
   "outputs": [],
   "source": [
    "TASK=2\n",
    "df = load_results(TASK)\n",
    "df = df.fillna(0.0)\n",
    "\n",
    "if TASK == 1:\n",
    "    best = \"LSTM 100\"\n",
    "else:\n",
    "    best = \"CNN 100\"\n",
    "\n",
    "del df[\"ExtraTrees\"]\n",
    "key_mapping = {\"p_sazonov\":\"Sazonov\", \n",
    "               \"p_cole\":\"Cole-Kripke\",\n",
    "               \"p_sadeh\":\"Sadeh\",\n",
    "               \"p_webster\": \"Webster\",\n",
    "               \"p_oakley\" : \"Oakley\",\n",
    "               \"p_kripke\" : \"Scripps Clinic\",\n",
    "               \"p_SGD_log\" : \"Logistic Reg.\",\n",
    "               \"p_ExtraTrees\" : \"ExtraTrees\",\n",
    "               \"p_LSTM_20_raw\": \"LSTM 20\",\n",
    "               \"p_LSTM_50_raw\": \"LSTM 50\",\n",
    "               \"p_LSTM_100_raw\": \"LSTM 100\",\n",
    "               \"p_CNN_20_raw\": \"CNN 20\",\n",
    "               \"p_CNN_50_raw\": \"CNN 50\",\n",
    "               \"p_CNN_100_raw\": \"CNN 100\",\n",
    "              }\n",
    "df = df.rename(columns=key_mapping)\n",
    "df.head()\n"
   ]
  },
  {
   "cell_type": "code",
   "execution_count": null,
   "metadata": {
    "ExecuteTime": {
     "end_time": "2019-01-10T08:15:52.425663Z",
     "start_time": "2019-01-10T08:15:47.704582Z"
    }
   },
   "outputs": [],
   "source": [
    "\"\"\"\n",
    "    Make AU_ROC and AU_PR plots for top methods\n",
    "\"\"\"\n",
    "\n",
    "invert_label = [\"Cole-Kripke\", \"Webster\", \"Oakley\", \"Scripps Clinic\"]\n",
    "\n",
    "plt.figure(figsize=(16,10))\n",
    "models = ['Sazonov', 'Cole-Kripke','Sadeh', 'Oakley', 'Scripps Clinic', 'Webster', \n",
    "          'Logistic Reg.', 'ExtraTrees',\n",
    "          'LSTM 20', 'LSTM 50', 'LSTM 100', 'CNN 20', 'CNN 50', 'CNN 100']\n",
    "linestyles = ['-', '--', '-.', ':']\n",
    "params = {'axes.titlesize': 24,\n",
    "          'axes.labelsize': 24,\n",
    "          'lines.markersize': 14,\n",
    "          'xtick.labelsize' : 24,\n",
    "          'ytick.labelsize' : 24,\n",
    "          'legend.fontsize': 20,\n",
    "          'legend.handlelength': 2}\n",
    "\n",
    "plt.rcParams.update(params)\n",
    "for (i, m) in enumerate(models):\n",
    "    pred = minmax_scale(df[m].values)\n",
    "    label = df['gt']\n",
    "    if (m in invert_label):\n",
    "        label = label==0\n",
    "    fpr, tpr, thresh = metrics.roc_curve(label, pred)\n",
    "    auc = \"%.3f\" % metrics.roc_auc_score(label, pred)\n",
    "    auc = auc.lstrip(\"0\")\n",
    "    \n",
    "    if m == best:\n",
    "        l = \"%s - AUROC = %s\" % (m, auc)\n",
    "        l = ' '.join(['$\\\\bf{'+j+'}$' for j in l.split(' ')])\n",
    "        plt.plot(fpr, tpr, label=l, linewidth=3, linestyle=linestyles[i%4])\n",
    "    else:\n",
    "        plt.plot(fpr,tpr,label='%s - AUROC = %s' % (m, auc),linewidth=3.0, linestyle = linestyles[i%4])\n",
    "\n",
    "ax = plt.subplot(111)    \n",
    "ax.spines[\"top\"].set_visible(False)    \n",
    "ax.spines[\"bottom\"].set_visible(True)    \n",
    "ax.spines[\"right\"].set_visible(False)    \n",
    "ax.spines[\"left\"].set_visible(True)  \n",
    "ax.get_xaxis().tick_bottom()    \n",
    "ax.get_yaxis().tick_left()   \n",
    "\n",
    "plt.legend(loc=\"lower right\", fancybox=True, framealpha=0.5)\n",
    "plt.xlabel('1-Specificity(False Positive Rate)')\n",
    "plt.ylabel('Sensitivity(True Positive Rate)')\n",
    "plt.title('AUROC curve for Task %d' % (TASK))\n",
    "plt.show()\n"
   ]
  },
  {
   "cell_type": "code",
   "execution_count": null,
   "metadata": {
    "ExecuteTime": {
     "end_time": "2019-01-10T08:15:55.351634Z",
     "start_time": "2019-01-10T08:15:52.948839Z"
    }
   },
   "outputs": [],
   "source": [
    "plt.figure(figsize=(16,10))\n",
    "models = ['Sazonov', 'Sadeh', 'oakley', 'cole', 'kripke', \"webster\",\n",
    "#          'Logistic Reg.',  'Perceptron', 'Linear SVM', 'ExtraTrees',\n",
    "          'LSTM 20', 'LSTM 50', 'LSTM 100', 'CNN 20', 'CNN 50', 'CNN 100']\n",
    "linestyles = ['-', '--', '-.', ':']\n",
    "params = {'axes.titlesize': 24,\n",
    "          'axes.labelsize': 24,\n",
    "          'lines.markersize': 14,\n",
    "          'xtick.labelsize' : 24,\n",
    "          'ytick.labelsize' : 24,\n",
    "          'legend.fontsize': 20,\n",
    "          'legend.handlelength': 2}\n",
    "plt.rcParams.update(params)\n",
    "for (i, m) in enumerate(models):\n",
    "    pred = minmax_scale(df[m].values)\n",
    "    label = df['gt']\n",
    "    if (m in invert_label):\n",
    "        label = label==0\n",
    "    if m in [\"oakley\", \"cole\", \"kripke\", 'webster']:\n",
    "        mapping = {\"cole\":\"Cole-Kripke\", \"oakley\" : \"Oakley\", \"kripke\" : \"Scripps Clinic\", \"webster\":\"Webster\"}\n",
    "        m = mapping[m]\n",
    "    prec, rec, thresh = metrics.precision_recall_curve(label, pred)\n",
    "    auc = \"%.3f\" % metrics.auc(rec,prec)\n",
    "    auc = auc.lstrip(\"0\")\n",
    "    if m == best:\n",
    "        l = \"%s - AUPS = %s\" % (m, auc)\n",
    "        l = ' '.join(['$\\\\bf{'+j+'}$' for j in l.split(' ')])\n",
    "        plt.plot(rec, prec, label=l, linewidth=3, linestyle=linestyles[i%4])\n",
    "    else:\n",
    "        plt.plot(rec, prec, label=\"%s - AUPS = %s\" % (m, auc), linewidth=3, linestyle=linestyles[i%4])\n",
    "\n",
    "#ax = plt.subplot(111)\n",
    "#box = ax.get_position()\n",
    "#ax.set_position([box.x0, box.y0, box.width * 0.8, box.height])\n",
    "\n",
    "# Put a legend to the right of the current axis\n",
    "#ax.legend(loc='center left', bbox_to_anchor=(1, 0.5))\n",
    "\n",
    "\n",
    "ax = plt.subplot(111)    \n",
    "ax.spines[\"top\"].set_visible(False)    \n",
    "ax.spines[\"bottom\"].set_visible(True)    \n",
    "ax.spines[\"right\"].set_visible(False)    \n",
    "ax.spines[\"left\"].set_visible(True)  \n",
    "ax.get_xaxis().tick_bottom()    \n",
    "ax.get_yaxis().tick_left() \n",
    "\n",
    "plt.legend(loc=\"lower center\",  fancybox=True, framealpha=0.5)\n",
    "\n",
    "plt.xlabel('Sensitivity')\n",
    "plt.ylabel('Precision')\n",
    "plt.title('AUPS curve for Task %d' % (TASK))\n",
    "plt.show()\n"
   ]
  }
 ],
 "metadata": {
  "hide_input": false,
  "kernelspec": {
   "display_name": "Python 2",
   "language": "python",
   "name": "python2"
  },
  "language_info": {
   "codemirror_mode": {
    "name": "ipython",
    "version": 2
   },
   "file_extension": ".py",
   "mimetype": "text/x-python",
   "name": "python",
   "nbconvert_exporter": "python",
   "pygments_lexer": "ipython2",
   "version": "2.7.15rc1"
  },
  "varInspector": {
   "cols": {
    "lenName": 16,
    "lenType": 16,
    "lenVar": 40
   },
   "kernels_config": {
    "python": {
     "delete_cmd_postfix": "",
     "delete_cmd_prefix": "del ",
     "library": "var_list.py",
     "varRefreshCmd": "print(var_dic_list())"
    },
    "r": {
     "delete_cmd_postfix": ") ",
     "delete_cmd_prefix": "rm(",
     "library": "var_list.r",
     "varRefreshCmd": "cat(var_dic_list()) "
    }
   },
   "types_to_exclude": [
    "module",
    "function",
    "builtin_function_or_method",
    "instance",
    "_Feature"
   ],
   "window_display": false
  }
 },
 "nbformat": 4,
 "nbformat_minor": 2
}
